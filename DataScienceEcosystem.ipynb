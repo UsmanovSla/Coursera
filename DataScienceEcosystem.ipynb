{
 "cells": [
  {
   "cell_type": "markdown",
   "id": "d5c98a70-fe2c-49be-81c2-4a57621b7abc",
   "metadata": {
    "tags": []
   },
   "source": [
    "# Data Science Tools and Ecosystem"
   ]
  },
  {
   "attachments": {},
   "cell_type": "markdown",
   "id": "92359dab",
   "metadata": {},
   "source": [
    "In this notebook, Data Science Tools and Ecosystem are summarized."
   ]
  },
  {
   "attachments": {},
   "cell_type": "markdown",
   "id": "0641aeb2",
   "metadata": {},
   "source": [
    "__Objectives:__\n",
    "* List popular languages for Data Science\n",
    "* Commonly used libraries used by Data Scientists include\n",
    "* Examples of evaluating arithmetic expressions in Python\n",
    "\n"
   ]
  },
  {
   "attachments": {},
   "cell_type": "markdown",
   "id": "66b1cd33",
   "metadata": {},
   "source": [
    "Some of the popular languages that Data Scientists use are:\n",
    "1. Python\n",
    "2. R\n",
    "3. SQL\n",
    "4. Java\n",
    "5. Julia\n",
    "6. Scala\n",
    "7. JavaScript\n",
    "8. Swift"
   ]
  },
  {
   "attachments": {},
   "cell_type": "markdown",
   "id": "50d997b0",
   "metadata": {},
   "source": [
    "Some of the commonly used libraries used by Data Scientists include:\n",
    "* TensorFlow\n",
    "* NumPy\n",
    "* SciPy\n",
    "* Pandas\n",
    "* Matplotlib\n",
    "* Keras\n",
    "* SciKit-Learn\n",
    "* PyTorch"
   ]
  },
  {
   "attachments": {},
   "cell_type": "markdown",
   "id": "e3187632",
   "metadata": {},
   "source": [
    "| Data Science Tools |\n",
    "| --- |\n",
    "| Jupyter Notebook |\n",
    "| Apache Hadoop |\n",
    "| TensorFlow |"
   ]
  },
  {
   "attachments": {},
   "cell_type": "markdown",
   "id": "5bc64868",
   "metadata": {},
   "source": [
    "### Below are a few examples of evaluating arithmetic expressions in Python"
   ]
  },
  {
   "cell_type": "code",
   "execution_count": 6,
   "id": "10c12f35",
   "metadata": {},
   "outputs": [
    {
     "data": {
      "text/plain": [
       "17"
      ]
     },
     "execution_count": 6,
     "metadata": {},
     "output_type": "execute_result"
    }
   ],
   "source": [
    "# This a simple arithmetic expression to mutiply then add integers\n",
    "(3*4)+5"
   ]
  },
  {
   "cell_type": "code",
   "execution_count": 7,
   "id": "66b06d4f",
   "metadata": {},
   "outputs": [
    {
     "name": "stdout",
     "output_type": "stream",
     "text": [
      "200 minutes is equal 3 hours and 20 minutes\n"
     ]
    }
   ],
   "source": [
    "# This will convert 200 minutes to hours by diving by 60\n",
    "minutes_input = 200\n",
    "hours = minutes_input//60\n",
    "minutes = minutes_input%60\n",
    "print(f'{minutes_input} minutes is equal {hours} hours and {minutes} minutes')"
   ]
  },
  {
   "attachments": {},
   "cell_type": "markdown",
   "id": "40d0b84e",
   "metadata": {},
   "source": [
    "## Author:\n",
    "Vjaceslav Usmanov"
   ]
  }
 ],
 "metadata": {
  "kernelspec": {
   "display_name": "Python 3 (ipykernel)",
   "language": "python",
   "name": "python3"
  },
  "language_info": {
   "codemirror_mode": {
    "name": "ipython",
    "version": 3
   },
   "file_extension": ".py",
   "mimetype": "text/x-python",
   "name": "python",
   "nbconvert_exporter": "python",
   "pygments_lexer": "ipython3",
   "version": "3.11.2"
  }
 },
 "nbformat": 4,
 "nbformat_minor": 5
}
